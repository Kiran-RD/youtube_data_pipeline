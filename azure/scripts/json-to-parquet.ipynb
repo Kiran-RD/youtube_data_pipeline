{
 "cells": [
  {
   "cell_type": "code",
   "execution_count": 4,
   "metadata": {},
   "outputs": [],
   "source": [
    "import pandas as pd\n",
    "import pyarrow"
   ]
  },
  {
   "cell_type": "code",
   "execution_count": 10,
   "metadata": {},
   "outputs": [],
   "source": [
    "df = pd.read_json('C:/Users/Futurense/Documents/My Documents/Git/youtube_data_pipeline/data/CA_category_id.json', orient='records')\n",
    "df_items = pd.json_normalize(df['items'])\n",
    "df_items.to_parquet('C:/Users/Futurense/Documents/My Documents/Git/youtube_data_pipeline/data/CA_category_id.snappy.parquet', engine='pyarrow', compression='snappy')"
   ]
  }
 ],
 "metadata": {
  "interpreter": {
   "hash": "b3ba2566441a7c06988d0923437866b63cedc61552a5af99d1f4fb67d367b25f"
  },
  "kernelspec": {
   "display_name": "Python 3.9.7 ('base')",
   "language": "python",
   "name": "python3"
  },
  "language_info": {
   "codemirror_mode": {
    "name": "ipython",
    "version": 3
   },
   "file_extension": ".py",
   "mimetype": "text/x-python",
   "name": "python",
   "nbconvert_exporter": "python",
   "pygments_lexer": "ipython3",
   "version": "3.9.7"
  },
  "orig_nbformat": 4
 },
 "nbformat": 4,
 "nbformat_minor": 2
}
